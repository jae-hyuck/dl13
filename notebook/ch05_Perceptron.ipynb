{
  "nbformat": 4,
  "nbformat_minor": 0,
  "metadata": {
    "colab": {
      "provenance": [],
      "authorship_tag": "ABX9TyPwIangDnRflkYlyfsBrIJ0",
      "include_colab_link": true
    },
    "kernelspec": {
      "name": "python3",
      "display_name": "Python 3"
    },
    "language_info": {
      "name": "python"
    }
  },
  "cells": [
    {
      "cell_type": "markdown",
      "metadata": {
        "id": "view-in-github",
        "colab_type": "text"
      },
      "source": [
        "<a href=\"https://colab.research.google.com/github/jae-hyuck/dl13/blob/main/notebook/ch05_Perceptron.ipynb\" target=\"_parent\"><img src=\"https://colab.research.google.com/assets/colab-badge.svg\" alt=\"Open In Colab\"/></a>"
      ]
    },
    {
      "cell_type": "markdown",
      "source": [
        "## ch05 Perceptron"
      ],
      "metadata": {
        "id": "w1dL6SWNJH84"
      }
    },
    {
      "cell_type": "markdown",
      "source": [
        "### 파이썬 코어로 구현 (기본 파이썬으로 구현)\n",
        " - AND연산"
      ],
      "metadata": {
        "id": "TuTmMkZfJPS_"
      }
    },
    {
      "cell_type": "code",
      "execution_count": null,
      "metadata": {
        "id": "gKmfpjljI80C"
      },
      "outputs": [],
      "source": [
        "epsilon = 0.0000001\n",
        "\n",
        "def perceptron(x1, x2):\n",
        "    w1, w2, b = 1.0, 1.0, -1.5\n",
        "    sum = x1*w1+x2*w2+b\n",
        "    if sum > epsilon :\t\t# 부동소수점 오차를 방지하기 위하여\n",
        "        return 1\n",
        "    else :\n",
        "        return 0\n",
        "    \n",
        "print(perceptron(0, 0))\n",
        "print(perceptron(1, 0))\n",
        "print(perceptron(0, 1))\n",
        "print(perceptron(1, 1))"
      ]
    },
    {
      "cell_type": "markdown",
      "source": [
        "### Numpy로 퍼셉트론 구현\n",
        " - AND연산"
      ],
      "metadata": {
        "id": "LMxIHpMmJu3I"
      }
    },
    {
      "cell_type": "code",
      "source": [
        "import numpy as np\n",
        "epsilon = 0.0000001\n",
        "\n",
        "def perceptron(x1, x2):\n",
        "    X = np.array([x1, x2])\n",
        "    W = np.array([1.0, 1.0])\n",
        "    B = -1.5\n",
        "    sum = np.dot(W, X)+B\n",
        "    if sum > epsilon :\n",
        "        return 1\n",
        "    else :\n",
        "        return 0\n",
        "\n",
        "print(perceptron(0, 0))\n",
        "print(perceptron(1, 0))\n",
        "print(perceptron(0, 1))\n",
        "print(perceptron(1, 1))\n"
      ],
      "metadata": {
        "id": "whuu-9DUJoRt"
      },
      "execution_count": null,
      "outputs": []
    },
    {
      "cell_type": "markdown",
      "source": [
        "### Numpy로 퍼셉트론 학습\n",
        " - fit()\n",
        " - predict()\n"
      ],
      "metadata": {
        "id": "7qMTU9wPKf6o"
      }
    },
    {
      "cell_type": "code",
      "source": [
        "import numpy as np\n",
        "\n",
        "epsilon = 0.0000001\t\t# 부동소수점 오차 방지\n",
        "\n",
        "def step_func(t):\t\t# 퍼셉트론의 활성화 함수\n",
        "    if t > epsilon: return 1\n",
        "    else: return 0\n",
        "\n",
        "X = np.array([\t\t\t# 훈련 데이터 세트\n",
        "    [0, 0, 1],\t\t\t# 맨 끝의 1은 바이어스를 위한 입력 신호 1이다. \n",
        "    [0, 1, 1],\t\t\t# 맨 끝의 1은 바이어스를 위한 입력 신호 1이다. \n",
        "    [1, 0, 1],\t\t\t# 맨 끝의 1은 바이어스를 위한 입력 신호 1이다. \n",
        "    [1, 1, 1]\t\t\t# 맨 끝의 1은 바이어스를 위한 입력 신호 1이다. \n",
        "])\n",
        "\t\n",
        "y = np.array([0, 0, 0, 1])\t# 정답을 저장하는 넘파이 행렬\n",
        "W = np.zeros(len(X[0]))\t# 가중치를 저장하는 넘파이 행렬\n",
        "# len(X[0]),len(X)\n",
        "\n",
        "# 학습\n",
        "def perceptron_fit(X, Y, epochs=10):\t# 퍼셉트론 학습 알고리즘 구현\n",
        "    global W\n",
        "    eta = 0.2\t# 학습률\n",
        "\n",
        "    for t in range(epochs):\n",
        "        print(\"epoch=\", t, \"======================\")\n",
        "        for i in range(len(X)):\n",
        "            predict = step_func(np.dot(X[i], W))\n",
        "            error = Y[i] - predict\t\t# 오차 계산\n",
        "            W += eta * error * X[i]\t\t# 가중치 업데이트\n",
        "            print(\"현재 처리 입력=\",X[i],\"정답=\",Y[i],\"출력=\",predict,\"변경된 가중치=\", W)\n",
        "        print(\"================================\")\n",
        "\n",
        "\n",
        "# 예측 => 학습된 W를 이용\n",
        "def perceptron_predict(X, Y):\t\t\n",
        "    global W\n",
        "    for x in X:\n",
        "         print(x[0], x[1], \"->\", step_func(np.dot(x, W)))\n",
        "\n",
        "########################################\n",
        "#  학습과 예측\n",
        "########################################\n",
        "perceptron_fit(X, y, 6)\n",
        "perceptron_predict(X, y)\n"
      ],
      "metadata": {
        "id": "kN3QGrcCKEHm"
      },
      "execution_count": null,
      "outputs": []
    },
    {
      "cell_type": "markdown",
      "source": [
        "### sklearn의 Perceptron 이용\n",
        " - AND\n",
        " - XOR"
      ],
      "metadata": {
        "id": "ewXcB_amLO9I"
      }
    },
    {
      "cell_type": "code",
      "source": [
        "# 논리적 AND 연산 샘플과 정답이다.\n",
        "from sklearn.linear_model import Perceptron\n",
        " \n",
        "X = [[0,0],[0,1],[1,0],[1,1]]\t\t# 항상 2차원 배열이어야 한다. \n",
        "y = [0, 0, 0, 1]\n",
        "\n",
        "# 퍼셉트론을 생성한다. tol는 종료 조건이다. random_state는 난수의 시드이다.\n",
        "clf = Perceptron(tol=1e-3, random_state=0)\n",
        "\n",
        "# 학습을 수행한다. \n",
        "clf.fit(X, y)\n",
        "\n",
        "# 테스트를 수행한다. \n",
        "print(clf.predict(X))"
      ],
      "metadata": {
        "colab": {
          "base_uri": "https://localhost:8080/"
        },
        "id": "MkKsGbypLN5Y",
        "outputId": "fc9a03dd-d70b-422b-f923-3c1a8f976ccf"
      },
      "execution_count": 4,
      "outputs": [
        {
          "output_type": "stream",
          "name": "stdout",
          "text": [
            "[0 0 0 1]\n"
          ]
        }
      ]
    },
    {
      "cell_type": "code",
      "source": [
        "# 논리적 XOR 연산 샘플과 정답이다\n",
        "from sklearn.linear_model import Perceptron\n",
        " \n",
        "X = [[0,0],[0,1],[1,0],[1,1]]\t\t# 항상 2차원 배열이어야 한다. \n",
        "y = [0, 1, 1, 0]\n",
        "\n",
        "# 퍼셉트론을 생성한다. tol는 종료 조건이다. random_state는 난수의 시드이다.\n",
        "clf = Perceptron(tol=1e-3, random_state=0)\n",
        "\n",
        "# 학습을 수행한다. \n",
        "clf.fit(X, y)\n",
        "\n",
        "# 테스트를 수행한다. \n",
        "print(clf.predict(X))"
      ],
      "metadata": {
        "id": "aaE2MQgRLgVp"
      },
      "execution_count": null,
      "outputs": []
    },
    {
      "cell_type": "markdown",
      "source": [
        "### Wrong result for XOR"
      ],
      "metadata": {
        "id": "bZLi70JFLwTZ"
      }
    },
    {
      "cell_type": "markdown",
      "source": [
        "### XOR 연산 (numpy 사용)"
      ],
      "metadata": {
        "id": "950A5phmOffJ"
      }
    },
    {
      "cell_type": "code",
      "source": [
        "import numpy as np\n",
        "\n",
        "epsilon = 0.0000001\t\t# 부동소수점 오차 방지\n",
        "\n",
        "def step_func(t):\t\t# 퍼셉트론의 활성화 함수\n",
        "    if t > epsilon: return 1\n",
        "    else: return 0\n",
        "    \n",
        "# XOR 연산 학습 데이터 세트\n",
        "X = np.array([\t\t\t# 훈련 데이터 세트\n",
        "    [0, 0, 1],\t\t\t# 맨 끝의 1은 바이어스를 위한 입력 신호 1이다. \n",
        "    [0, 1, 1],\t\t\t# 맨 끝의 1은 바이어스를 위한 입력 신호 1이다. \n",
        "    [1, 0, 1],\t\t\t# 맨 끝의 1은 바이어스를 위한 입력 신호 1이다. \n",
        "    [1, 1, 1]\t\t\t# 맨 끝의 1은 바이어스를 위한 입력 신호 1이다. \n",
        "])\n",
        "\n",
        "y = np.array([0, 1, 1, 0])\n",
        "W = np.zeros(len(X[0]))\t# 가중치를 저장하는 넘파이 행렬\n",
        "\n",
        "def perceptron_fit(X, Y, epochs=10):\t# 퍼셉트론 학습 알고리즘 구현\n",
        "    global W\n",
        "    eta = 0.2\t\t\t\t# 학습률\n",
        "\n",
        "    for t in range(epochs):\n",
        "        print(\"epoch=\", t, \"======================\")\n",
        "        for i in range(len(X)):\n",
        "            predict = step_func(np.dot(X[i], W))\n",
        "            error = Y[i] - predict\t\t# 오차 계산\n",
        "            W += eta * error * X[i]\t\t# 가중치 업데이트\n",
        "            print(\"현재 처리 입력=\",X[i],\"정답=\",Y[i],\"출력=\",predict,\"변경된 가중치=\", W)\n",
        "        print(\"================================\")\n",
        "\n",
        "def perceptron_predict(X, Y):\t\t# 예측\t\n",
        "    global W\n",
        "    for x in X:\n",
        "         print(x[0], x[1], \"->\", step_func(np.dot(x, W)))\n",
        "\n",
        "perceptron_fit(X, y, 20)\n",
        "perceptron_predict(X, y)\n",
        "#######################################\n",
        "# Perceptron doesn't solve XOR problem.\n",
        "#######################################"
      ],
      "metadata": {
        "id": "k8mBpiIUOddw"
      },
      "execution_count": null,
      "outputs": []
    },
    {
      "cell_type": "markdown",
      "source": [
        "### 결정 경계 (decision boundary)"
      ],
      "metadata": {
        "id": "PG8K7L5ZQyeC"
      }
    },
    {
      "cell_type": "code",
      "source": [
        "from matplotlib import pyplot as plt\n",
        "from sklearn.datasets import make_blobs\n",
        "from sklearn.linear_model import Perceptron\n",
        "import numpy as np\n",
        "\n",
        "# 퍼셉트론을 생성한다. tol는 종료 조건이다. random_state는 난수의 시드이다.\n",
        "clf = Perceptron(tol=1e-3, random_state=0)\n",
        "\n",
        "# 뭉쳐진 데이터를 만든다. 샘플의 개수는 총 100개, 클러스터의 개수는 2개이다. \n",
        "X, y = make_blobs(n_samples=100, centers=2)\n",
        "print(X.shape,y.shape)\n",
        "print(X[:5],y[:5])"
      ],
      "metadata": {
        "colab": {
          "base_uri": "https://localhost:8080/"
        },
        "id": "mPsfUNUbQ-si",
        "outputId": "1ac9f810-a680-44f4-99e1-e2c6d4a07cdc"
      },
      "execution_count": 8,
      "outputs": [
        {
          "output_type": "stream",
          "name": "stdout",
          "text": [
            "(100, 2) (100,)\n",
            "[[ 3.49429441  2.8536641 ]\n",
            " [-3.68176363  0.49442052]\n",
            " [ 5.07405655  3.36060285]\n",
            " [-6.32580753  1.11961448]\n",
            " [ 5.63655469  3.64551674]] [0 1 0 1 0]\n"
          ]
        }
      ]
    },
    {
      "cell_type": "code",
      "source": [
        "plt.plot(X)\n",
        "plt.show()"
      ],
      "metadata": {
        "id": "at_pLZSORBFr"
      },
      "execution_count": null,
      "outputs": []
    },
    {
      "cell_type": "code",
      "source": [
        "plt.scatter(X[:,0],X[:,1])\n",
        "plt.show()"
      ],
      "metadata": {
        "id": "0oTi6dI-Rfgr"
      },
      "execution_count": null,
      "outputs": []
    },
    {
      "cell_type": "code",
      "source": [
        "plt.scatter(X[:,0],X[:,1],c=y)\n",
        "plt.show()"
      ],
      "metadata": {
        "id": "BgteZzo2R07y"
      },
      "execution_count": null,
      "outputs": []
    },
    {
      "cell_type": "code",
      "source": [
        "# Learning\n",
        "clf.fit(X, y)\n",
        "\n",
        "#######################################\n",
        "from sklearn.metrics import accuracy_score\n",
        "print(accuracy_score(clf.predict(X), y))"
      ],
      "metadata": {
        "colab": {
          "base_uri": "https://localhost:8080/"
        },
        "id": "2bcKUm4WRoVr",
        "outputId": "92a5a0b3-4c11-4380-b058-79e16c825ce6"
      },
      "execution_count": 26,
      "outputs": [
        {
          "output_type": "stream",
          "name": "stdout",
          "text": [
            "1.0\n"
          ]
        }
      ]
    },
    {
      "cell_type": "code",
      "source": [
        "# 데이터를 그래프 위에 표시한다. \n",
        "plt.scatter(X[:, 0], X[:, 1], c=y, s=50)\n",
        "plt.xlabel(\"x1\")\n",
        "plt.ylabel(\"x2\")\n",
        "plt.show()"
      ],
      "metadata": {
        "id": "bbsoQcrTR_WJ"
      },
      "execution_count": null,
      "outputs": []
    },
    {
      "cell_type": "markdown",
      "source": [
        "#### decision boundary"
      ],
      "metadata": {
        "id": "qoCYXe7vSnly"
      }
    },
    {
      "cell_type": "code",
      "source": [
        "plt.scatter(X[:, 0], X[:, 1], c=y, s=50)\n",
        "plt.xlabel(\"x1\")\n",
        "plt.ylabel(\"x2\")\n",
        "\n",
        "# 데이터에서 최소 좌표와 최대 좌표를 계산한다. \n",
        "x_min, x_max = X[:, 0].min() - 1, X[:, 0].max() + 1\n",
        "y_min, y_max = X[:, 1].min() - 1, X[:, 1].max() + 1\n",
        "\n",
        "# 0.1 간격으로 메쉬 그리드 좌표를 만든다. \n",
        "xx, yy = np.meshgrid(np.arange(x_min, x_max, 0.1), np.arange(y_min, y_max, 0.1))\n",
        "xx.shape,yy.shape\n",
        "xx.ravel().shape  # , 123*91\n",
        "np.c_[xx.ravel(), yy.ravel()].shape\n",
        "\n",
        "# 메쉬 그리드 데이터에 대하여 예측을 한다. \n",
        "Z = clf.predict(np.c_[xx.ravel(), yy.ravel()]).reshape(xx.shape)\n",
        "Z.shape\n",
        "# 컨투어를 그린다. \n",
        "plt.contourf(xx, yy, Z, alpha=0.4)\n",
        "plt.show()"
      ],
      "metadata": {
        "colab": {
          "base_uri": "https://localhost:8080/",
          "height": 449
        },
        "id": "5EhBaEyDSTVb",
        "outputId": "dffa5cc2-d6d8-4565-8e98-bfd6442fee26"
      },
      "execution_count": 29,
      "outputs": [
        {
          "output_type": "display_data",
          "data": {
            "text/plain": [
              "<Figure size 640x480 with 1 Axes>"
            ],
            "image/png": "[encoded data removed]"
          },
          "metadata": {}
        }
      ]
    },
    {
      "cell_type": "markdown",
      "source": [
        "---\n",
        "# [DIY] 체중과 키의 분포를 이용한 성별 예측\n",
        " - Perceptron\n",
        " - Decision boundary\n",
        " "
      ],
      "metadata": {
        "id": "X1dVu3myTNgz"
      }
    },
    {
      "cell_type": "code",
      "source": [],
      "metadata": {
        "id": "j7KDG8WsTlWh"
      },
      "execution_count": null,
      "outputs": []
    }
  ]
}