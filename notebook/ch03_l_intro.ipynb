{
  "nbformat": 4,
  "nbformat_minor": 0,
  "metadata": {
    "colab": {
      "provenance": [],
      "authorship_tag": "ABX9TyPDchC9qgTuUZSzpZ+sgejC",
      "include_colab_link": true
    },
    "kernelspec": {
      "name": "python3",
      "display_name": "Python 3"
    },
    "language_info": {
      "name": "python"
    }
  },
  "cells": [
    {
      "cell_type": "markdown",
      "metadata": {
        "id": "view-in-github",
        "colab_type": "text"
      },
      "source": [
        "<a href=\"https://colab.research.google.com/github/jae-hyuck/dl13/blob/main/notebook/ch03_l_intro.ipynb\" target=\"_parent\"><img src=\"https://colab.research.google.com/assets/colab-badge.svg\" alt=\"Open In Colab\"/></a>"
      ]
    },
    {
      "cell_type": "markdown",
      "source": [
        "## intro to ML \n",
        "### sklean\n",
        " - iris : knn\n",
        " - logis : knn\n",
        " - confusion matrix (혼동행렬)"
      ],
      "metadata": {
        "id": "6jqQjphAEeDf"
      }
    },
    {
      "cell_type": "markdown",
      "source": [
        "## iris dataset"
      ],
      "metadata": {
        "id": "2V2VLIAKFd3y"
      }
    },
    {
      "cell_type": "code",
      "source": [
        "# iris dataset\n",
        "from sklearn import datasets\n",
        "iris = datasets.load_iris()\n",
        "\n",
        "print(iris)"
      ],
      "metadata": {
        "id": "Bvwu_fGKFYKq"
      },
      "execution_count": null,
      "outputs": []
    },
    {
      "cell_type": "code",
      "source": [
        "iris.data.shape"
      ],
      "metadata": {
        "id": "JcDl1_o1GUiF"
      },
      "execution_count": null,
      "outputs": []
    },
    {
      "cell_type": "code",
      "source": [
        "iris.target.shape"
      ],
      "metadata": {
        "id": "W7SzHk2dGwmD"
      },
      "execution_count": null,
      "outputs": []
    },
    {
      "cell_type": "code",
      "source": [
        "print(iris.target_names)"
      ],
      "metadata": {
        "id": "TtOJvMG2GwNk"
      },
      "execution_count": null,
      "outputs": []
    },
    {
      "cell_type": "markdown",
      "source": [
        "### train-test split"
      ],
      "metadata": {
        "id": "BfkD4dLlHKO6"
      }
    },
    {
      "cell_type": "code",
      "source": [
        "from sklearn.model_selection import train_test_split\n",
        "\n",
        "X = iris.data\n",
        "y = iris.target\n",
        "\n",
        "# (80:20)으로 분할한다. \n",
        "X_train,X_test,y_train,y_test = train_test_split(X,y,test_size=0.2,random_state=4)\n",
        "\n",
        "print(X_train.shape)\n",
        "print(X_test.shape)"
      ],
      "metadata": {
        "colab": {
          "base_uri": "https://localhost:8080/"
        },
        "id": "Ia-XsCq4FrKZ",
        "outputId": "418db2c4-82d5-4fdc-e111-23f090205eca"
      },
      "execution_count": null,
      "outputs": [
        {
          "output_type": "stream",
          "name": "stdout",
          "text": [
            "(120, 4)\n",
            "(30, 4)\n"
          ]
        }
      ]
    },
    {
      "cell_type": "code",
      "source": [
        "y_train.shape, y_test.shape # 튜플 구조로 나옴"
      ],
      "metadata": {
        "colab": {
          "base_uri": "https://localhost:8080/"
        },
        "id": "znqSdu0dINUE",
        "outputId": "d7c71f5d-712e-41a5-f483-49d4dc9f6b97"
      },
      "execution_count": null,
      "outputs": [
        {
          "output_type": "execute_result",
          "data": {
            "text/plain": [
              "((120,), (30,))"
            ]
          },
          "metadata": {},
          "execution_count": 9
        }
      ]
    },
    {
      "cell_type": "markdown",
      "source": [
        "### Training (학습)"
      ],
      "metadata": {
        "id": "pSH8BfwnI6cO"
      }
    },
    {
      "cell_type": "code",
      "source": [
        "from sklearn.neighbors import KNeighborsClassifier\n",
        "\n",
        "knn = KNeighborsClassifier(n_neighbors=3)\n",
        "knn.fit(X_train, y_train)\n",
        "\n",
        "y_pred = knn.predict(X_test) # 예측값"
      ],
      "metadata": {
        "id": "ttJ8GtE8HIzy"
      },
      "execution_count": null,
      "outputs": []
    },
    {
      "cell_type": "code",
      "source": [
        "y_pred , y_test"
      ],
      "metadata": {
        "colab": {
          "base_uri": "https://localhost:8080/"
        },
        "id": "CEXuOy-wJCeJ",
        "outputId": "9d108f47-e54c-4bec-af18-80b390bbdadd"
      },
      "execution_count": null,
      "outputs": [
        {
          "output_type": "execute_result",
          "data": {
            "text/plain": [
              "(array([2, 0, 2, 2, 2, 1, 2, 0, 0, 2, 0, 0, 0, 1, 2, 0, 1, 0, 0, 2, 0, 2,\n",
              "        1, 0, 0, 0, 0, 0, 0, 2]),\n",
              " array([2, 0, 2, 2, 2, 1, 1, 0, 0, 2, 0, 0, 0, 1, 2, 0, 1, 0, 0, 2, 0, 2,\n",
              "        1, 0, 0, 0, 0, 0, 0, 2]))"
            ]
          },
          "metadata": {},
          "execution_count": 13
        }
      ]
    },
    {
      "cell_type": "markdown",
      "source": [
        "### 정확도 평가"
      ],
      "metadata": {
        "id": "m1Go1f2QJlr8"
      }
    },
    {
      "cell_type": "code",
      "source": [
        "from sklearn import metrics\n",
        "scores = metrics.accuracy_score(y_test, y_pred)\n",
        "print(scores)"
      ],
      "metadata": {
        "colab": {
          "base_uri": "https://localhost:8080/"
        },
        "id": "df9-y6CYI40v",
        "outputId": "79f201bc-e834-431c-add6-e6e985c71861"
      },
      "execution_count": null,
      "outputs": [
        {
          "output_type": "stream",
          "name": "stdout",
          "text": [
            "0.9666666666666667\n"
          ]
        }
      ]
    },
    {
      "cell_type": "markdown",
      "source": [
        "### 새 데이터에 적용"
      ],
      "metadata": {
        "id": "9HLYAmbMJ39V"
      }
    },
    {
      "cell_type": "code",
      "source": [
        "#######################\n",
        "#  Test on new data\n",
        "#######################\n",
        "classes = {0:'setosa',1:'versicolor',2:'virginica'}\n",
        "\n",
        "# 전혀 보지 못한 새로운 데이터를 2개 제시해보자. \n",
        "x_new = [[3,4,5,2],\n",
        "         [5,4,2,2]]\n",
        "\n",
        "y_predict = knn.predict(x_new)\n",
        "\n",
        "print(classes[y_predict[0]])\n",
        "print(classes[y_predict[1]])"
      ],
      "metadata": {
        "colab": {
          "base_uri": "https://localhost:8080/"
        },
        "id": "amC8gD7fJjV3",
        "outputId": "c29c993d-5f40-4f94-b2b6-24ba046cccaa"
      },
      "execution_count": null,
      "outputs": [
        {
          "output_type": "stream",
          "name": "stdout",
          "text": [
            "versicolor\n",
            "setosa\n"
          ]
        }
      ]
    },
    {
      "cell_type": "markdown",
      "source": [
        "### Decision boundary"
      ],
      "metadata": {
        "id": "wHdIjLyMKVFa"
      }
    },
    {
      "cell_type": "code",
      "source": [
        "############################################################\n",
        "# Decision boundary\n",
        "# from mlxtend.plotting import plot_decision_regions\n",
        "############################################################\n",
        "from mlxtend.plotting import plot_decision_regions\n",
        "import matplotlib.pyplot as plt\n",
        "# Plotting decision regions of two features\n",
        "ft_names = iris.feature_names\n",
        "two_feature_idx = [0,3]\n",
        "X2 = iris.data[:, two_feature_idx]\n",
        "y2 = iris.target\n",
        "X_train,X_test,y_train,y_test = train_test_split(X2,y2,test_size=0.2,random_state=4)\n",
        "\n",
        "knn2 = KNeighborsClassifier(n_neighbors=3)\n",
        "knn2.fit(X_train, y_train)\n",
        "\n",
        "plot_decision_regions(X2, y2, clf=knn2, legend=2)\n",
        "# Adding axes annotations\n",
        "plt.xlabel(ft_names[two_feature_idx[0]])\n",
        "plt.ylabel(ft_names[two_feature_idx[1]])\n",
        "plt.title('KNN3 on Iris')\n",
        "plt.show()"
      ],
      "metadata": {
        "id": "tBHN48mCJ10F"
      },
      "execution_count": null,
      "outputs": []
    },
    {
      "cell_type": "code",
      "source": [
        "########################################################\n",
        "# SVM\n",
        "########################################################\n",
        "# Training a classifier\n",
        "from sklearn.svm import SVC\n",
        "\n",
        "ft_names = iris.feature_names\n",
        "two_feature_idx = [0,2]\n",
        "X2 = iris.data[:, two_feature_idx]\n",
        "y2 = iris.target\n",
        "X_train,X_test,y_train,y_test = train_test_split(X2,y2,test_size=0.2,random_state=4)\n",
        "\n",
        "svm = SVC(C=0.5, kernel='linear')\n",
        "svm.fit(X_train, y_train)\n",
        "\n",
        "plot_decision_regions(X2, y2, clf=svm, legend=2)\n",
        "# Adding axes annotations\n",
        "plt.xlabel(ft_names[two_feature_idx[0]])\n",
        "plt.ylabel(ft_names[two_feature_idx[1]])\n",
        "plt.title('SVM on Iris')\n",
        "plt.show()\n",
        "########################################################\n"
      ],
      "metadata": {
        "id": "mgH30LWfKTX7"
      },
      "execution_count": null,
      "outputs": []
    },
    {
      "cell_type": "markdown",
      "source": [
        "---"
      ],
      "metadata": {
        "id": "QAcXTzh1Movi"
      }
    },
    {
      "cell_type": "markdown",
      "source": [
        "## mnist data\n",
        " - knn"
      ],
      "metadata": {
        "id": "yfyV6twPOst8"
      }
    },
    {
      "cell_type": "markdown",
      "source": [
        "### Load digits dataset"
      ],
      "metadata": {
        "id": "gpcN_E4MO6pc"
      }
    },
    {
      "cell_type": "code",
      "source": [
        "import matplotlib.pyplot as plt\n",
        "\n",
        "from sklearn import datasets, metrics\n",
        "from sklearn.model_selection import train_test_split\n",
        "\n",
        "digits = datasets.load_digits()\n",
        "str(digits)\n"
      ],
      "metadata": {
        "id": "bXv5r3_wOnH1",
        "outputId": "de6584ac-8661-4127-9b8f-778b31760570",
        "colab": {
          "base_uri": "https://localhost:8080/",
          "height": 90
        }
      },
      "execution_count": 1,
      "outputs": [
        {
          "output_type": "execute_result",
          "data": {
            "text/plain": [
              "'{\\'data\\': array([[ 0.,  0.,  5., ...,  0.,  0.,  0.],\\n       [ 0.,  0.,  0., ..., 10.,  0.,  0.],\\n       [ 0.,  0.,  0., ..., 16.,  9.,  0.],\\n       ...,\\n       [ 0.,  0.,  1., ...,  6.,  0.,  0.],\\n       [ 0.,  0.,  2., ..., 12.,  0.,  0.],\\n       [ 0.,  0., 10., ..., 12.,  1.,  0.]]), \\'target\\': array([0, 1, 2, ..., 8, 9, 8]), \\'frame\\': None, \\'feature_names\\': [\\'pixel_0_0\\', \\'pixel_0_1\\', \\'pixel_0_2\\', \\'pixel_0_3\\', \\'pixel_0_4\\', \\'pixel_0_5\\', \\'pixel_0_6\\', \\'pixel_0_7\\', \\'pixel_1_0\\', \\'pixel_1_1\\', \\'pixel_1_2\\', \\'pixel_1_3\\', \\'pixel_1_4\\', \\'pixel_1_5\\', \\'pixel_1_6\\', \\'pixel_1_7\\', \\'pixel_2_0\\', \\'pixel_2_1\\', \\'pixel_2_2\\', \\'pixel_2_3\\', \\'pixel_2_4\\', \\'pixel_2_5\\', \\'pixel_2_6\\', \\'pixel_2_7\\', \\'pixel_3_0\\', \\'pixel_3_1\\', \\'pixel_3_2\\', \\'pixel_3_3\\', \\'pixel_3_4\\', \\'pixel_3_5\\', \\'pixel_3_6\\', \\'pixel_3_7\\', \\'pixel_4_0\\', \\'pixel_4_1\\', \\'pixel_4_2\\', \\'pixel_4_3\\', \\'pixel_4_4\\', \\'pixel_4_5\\', \\'pixel_4_6\\', \\'pixel_4_7\\', \\'pixel_5_0\\', \\'pixel_5_1\\', \\'pixel_5_2\\', \\'pixel_5_3\\', \\'pixel_5_4\\', \\'pixel_5_5\\', \\'pixel_5_6\\', \\'pixel_5_7\\', \\'pixel_6_0\\', \\'pixel_6_1\\', \\'pixel_6_2\\', \\'pixel_6_3\\', \\'pixel_6_4\\', \\'pixel_6_5\\', \\'pixel_6_6\\', \\'pixel_6_7\\', \\'pixel_7_0\\', \\'pixel_7_1\\', \\'pixel_7_2\\', \\'pixel_7_3\\', \\'pixel_7_4\\', \\'pixel_7_5\\', \\'pixel_7_6\\', \\'pixel_7_7\\'], \\'target_names\\': array([0, 1, 2, 3, 4, 5, 6, 7, 8, 9]), \\'images\\': array([[[ 0.,  0.,  5., ...,  1.,  0.,  0.],\\n        [ 0.,  0., 13., ..., 15.,  5.,  0.],\\n        [ 0.,  3., 15., ..., 11.,  8.,  0.],\\n        ...,\\n        [ 0.,  4., 11., ..., 12.,  7.,  0.],\\n        [ 0.,  2., 14., ..., 12.,  0.,  0.],\\n        [ 0.,  0.,  6., ...,  0.,  0.,  0.]],\\n\\n       [[ 0.,  0.,  0., ...,  5.,  0.,  0.],\\n        [ 0.,  0.,  0., ...,  9.,  0.,  0.],\\n        [ 0.,  0.,  3., ...,  6.,  0.,  0.],\\n        ...,\\n        [ 0.,  0.,  1., ...,  6.,  0.,  0.],\\n        [ 0.,  0.,  1., ...,  6.,  0.,  0.],\\n        [ 0.,  0.,  0., ..., 10.,  0.,  0.]],\\n\\n       [[ 0.,  0.,  0., ..., 12.,  0.,  0.],\\n        [ 0.,  0.,  3., ..., 14.,  0.,  0.],\\n        [ 0.,  0.,  8., ..., 16.,  0.,  0.],\\n        ...,\\n        [ 0.,  9., 16., ...,  0.,  0.,  0.],\\n        [ 0.,  3., 13., ..., 11.,  5.,  0.],\\n        [ 0.,  0.,  0., ..., 16.,  9.,  0.]],\\n\\n       ...,\\n\\n       [[ 0.,  0.,  1., ...,  1.,  0.,  0.],\\n        [ 0.,  0., 13., ...,  2.,  1.,  0.],\\n        [ 0.,  0., 16., ..., 16.,  5.,  0.],\\n        ...,\\n        [ 0.,  0., 16., ..., 15.,  0.,  0.],\\n        [ 0.,  0., 15., ..., 16.,  0.,  0.],\\n        [ 0.,  0.,  2., ...,  6.,  0.,  0.]],\\n\\n       [[ 0.,  0.,  2., ...,  0.,  0.,  0.],\\n        [ 0.,  0., 14., ..., 15.,  1.,  0.],\\n        [ 0.,  4., 16., ..., 16.,  7.,  0.],\\n        ...,\\n        [ 0.,  0.,  0., ..., 16.,  2.,  0.],\\n        [ 0.,  0.,  4., ..., 16.,  2.,  0.],\\n        [ 0.,  0.,  5., ..., 12.,  0.,  0.]],\\n\\n       [[ 0.,  0., 10., ...,  1.,  0.,  0.],\\n        [ 0.,  2., 16., ...,  1.,  0.,  0.],\\n        [ 0.,  0., 15., ..., 15.,  0.,  0.],\\n        ...,\\n        [ 0.,  4., 16., ..., 16.,  6.,  0.],\\n        [ 0.,  8., 16., ..., 16.,  8.,  0.],\\n        [ 0.,  1.,  8., ..., 12.,  1.,  0.]]]), \\'DESCR\\': \".. _digits_dataset:\\\\n\\\\nOptical recognition of handwritten digits dataset\\\\n--------------------------------------------------\\\\n\\\\n**Data Set Characteristics:**\\\\n\\\\n    :Number of Instances: 1797\\\\n    :Number of Attributes: 64\\\\n    :Attribute Information: 8x8 image of integer pixels in the range 0..16.\\\\n    :Missing Attribute Values: None\\\\n    :Creator: E. Alpaydin (alpaydin \\'@\\' boun.edu.tr)\\\\n    :Date: July; 1998\\\\n\\\\nThis is a copy of the test set of the UCI ML hand-written digits datasets\\\\nhttps://archive.ics.uci.edu/ml/datasets/Optical+Recognition+of+Handwritten+Digits\\\\n\\\\nThe data set contains images of hand-written digits: 10 classes where\\\\neach class refers to a digit.\\\\n\\\\nPreprocessing programs made available by NIST were used to extract\\\\nnormalized bitmaps of handwritten digits from a preprinted form. From a\\\\ntotal of 43 people, 30 contributed to the training set and different 13\\\\nto the test set. 32x32 bitmaps are divided into nonoverlapping blocks of\\\\n4x4 and the number of on pixels are counted in each block. This generates\\\\nan input matrix of 8x8 where each element is an integer in the range\\\\n0..16. This reduces dimensionality and gives invariance to small\\\\ndistortions.\\\\n\\\\nFor info on NIST preprocessing routines, see M. D. Garris, J. L. Blue, G.\\\\nT. Candela, D. L. Dimmick, J. Geist, P. J. Grother, S. A. Janet, and C.\\\\nL. Wilson, NIST Form-Based Handprint Recognition System, NISTIR 5469,\\\\n1994.\\\\n\\\\n.. topic:: References\\\\n\\\\n  - C. Kaynak (1995) Methods of Combining Multiple Classifiers and Their\\\\n    Applications to Handwritten Digit Recognition, MSc Thesis, Institute of\\\\n    Graduate Studies in Science and Engineering, Bogazici University.\\\\n  - E. Alpaydin, C. Kaynak (1998) Cascading Classifiers, Kybernetika.\\\\n  - Ken Tang and Ponnuthurai N. Suganthan and Xi Yao and A. Kai Qin.\\\\n    Linear dimensionalityreduction using relevance weighted LDA. School of\\\\n    Electrical and Electronic Engineering Nanyang Technological University.\\\\n    2005.\\\\n  - Claudio Gentile. A New Approximate Maximal Margin Classification\\\\n    Algorithm. NIPS. 2000.\\\\n\"}'"
            ],
            "application/vnd.google.colaboratory.intrinsic+json": {
              "type": "string"
            }
          },
          "metadata": {},
          "execution_count": 1
        }
      ]
    },
    {
      "cell_type": "code",
      "source": [
        "digits.data.shape, digits.target.shape"
      ],
      "metadata": {
        "id": "sb1IdCxhPmPq",
        "outputId": "fcde7387-7e9d-497a-f8c6-369b5527f261",
        "colab": {
          "base_uri": "https://localhost:8080/"
        }
      },
      "execution_count": 2,
      "outputs": [
        {
          "output_type": "execute_result",
          "data": {
            "text/plain": [
              "((1797, 64), (1797,))"
            ]
          },
          "metadata": {},
          "execution_count": 2
        }
      ]
    },
    {
      "cell_type": "code",
      "source": [
        "digits.target[:20]"
      ],
      "metadata": {
        "id": "jBBe6CF4P5DJ",
        "outputId": "32f170b0-ebbf-434b-c76d-5663076ba9a8",
        "colab": {
          "base_uri": "https://localhost:8080/"
        }
      },
      "execution_count": 3,
      "outputs": [
        {
          "output_type": "execute_result",
          "data": {
            "text/plain": [
              "array([0, 1, 2, 3, 4, 5, 6, 7, 8, 9, 0, 1, 2, 3, 4, 5, 6, 7, 8, 9])"
            ]
          },
          "metadata": {},
          "execution_count": 3
        }
      ]
    },
    {
      "cell_type": "code",
      "source": [
        "digits.images.shape, digits.data.shape"
      ],
      "metadata": {
        "id": "jpWN_-K6QNLB",
        "outputId": "49f58106-d009-4af7-cb6b-fcf106e1c33d",
        "colab": {
          "base_uri": "https://localhost:8080/"
        }
      },
      "execution_count": 5,
      "outputs": [
        {
          "output_type": "execute_result",
          "data": {
            "text/plain": [
              "((1797, 8, 8), (1797, 64))"
            ]
          },
          "metadata": {},
          "execution_count": 5
        }
      ]
    },
    {
      "cell_type": "markdown",
      "source": [
        "### 데이터 그리기"
      ],
      "metadata": {
        "id": "Atb2iLf3Qp-O"
      }
    },
    {
      "cell_type": "code",
      "source": [
        "plt.imshow(digits.images[7], cmap=plt.cm.gray_r, interpolation='nearest')\n",
        "plt.show() # 2차원 영상 그리기\n",
        "# digits.images.shape"
      ],
      "metadata": {
        "id": "-bNwwET1O5GF"
      },
      "execution_count": null,
      "outputs": []
    },
    {
      "cell_type": "code",
      "source": [
        "digits.images.shape, len(digits.images)"
      ],
      "metadata": {
        "id": "-4hcDy6eRH-1",
        "outputId": "cd396472-307b-4837-e740-411f9c68ad1d",
        "colab": {
          "base_uri": "https://localhost:8080/"
        }
      },
      "execution_count": 15,
      "outputs": [
        {
          "output_type": "execute_result",
          "data": {
            "text/plain": [
              "((1797, 8, 8), 1797)"
            ]
          },
          "metadata": {},
          "execution_count": 15
        }
      ]
    },
    {
      "cell_type": "code",
      "source": [
        "n_samples = len(digits.images) \n",
        "# digits.images.shape\n",
        "# Flattening (평탄화) : (8, 8) => (64,)\n",
        "data = digits.images.reshape((n_samples, -1))\n",
        "data.shape"
      ],
      "metadata": {
        "id": "naGfBTz4Qvhn",
        "outputId": "3c01cc66-0648-4a14-b4e8-f6045f4e12c4",
        "colab": {
          "base_uri": "https://localhost:8080/"
        }
      },
      "execution_count": 16,
      "outputs": [
        {
          "output_type": "execute_result",
          "data": {
            "text/plain": [
              "(1797, 64)"
            ]
          },
          "metadata": {},
          "execution_count": 16
        }
      ]
    },
    {
      "cell_type": "code",
      "source": [
        "from sklearn.neighbors import KNeighborsClassifier\n",
        "\n",
        "knn = KNeighborsClassifier(n_neighbors=6)\n",
        "\n",
        "X_train, X_test, y_train, y_test = train_test_split(\n",
        "    data, digits.target, test_size=0.2)\n",
        "\n",
        "knn.fit(X_train, y_train)\n",
        "\n",
        "y_pred = knn.predict(X_test)\n",
        "\n",
        "scores = metrics.accuracy_score(y_test, y_pred)\n",
        "print(scores)"
      ],
      "metadata": {
        "id": "ULVdCFeBRj-F",
        "outputId": "3aa2d5fe-0c01-49e6-c7db-e7d6da373173",
        "colab": {
          "base_uri": "https://localhost:8080/",
          "height": 302
        }
      },
      "execution_count": 19,
      "outputs": [
        {
          "output_type": "stream",
          "name": "stdout",
          "text": [
            "0.9833333333333333\n",
            "[3]\n"
          ]
        },
        {
          "output_type": "display_data",
          "data": {
            "text/plain": [
              "<Figure size 432x288 with 1 Axes>"
            ],
            "image/png": "[encoded data removed]"
          },
          "metadata": {
            "needs_background": "light"
          }
        }
      ]
    },
    {
      "cell_type": "code",
      "source": [
        "idx = 50\n",
        "plt.imshow(X_test[idx].reshape(8,8), cmap=plt.cm.gray_r, interpolation='nearest')\n",
        "y_pred = knn.predict([X_test[idx]])\n",
        "print(y_test[idx], y_pred)"
      ],
      "metadata": {
        "id": "iXeDhmHzS8Xz",
        "outputId": "53fd4407-3c93-4d74-ec4d-9acc541381c6",
        "colab": {
          "base_uri": "https://localhost:8080/",
          "height": 283
        }
      },
      "execution_count": 27,
      "outputs": [
        {
          "output_type": "stream",
          "name": "stdout",
          "text": [
            "5 [5]\n"
          ]
        },
        {
          "output_type": "display_data",
          "data": {
            "text/plain": [
              "<Figure size 432x288 with 1 Axes>"
            ],
            "image/png": "[encoded data removed]"
          },
          "metadata": {
            "needs_background": "light"
          }
        }
      ]
    },
    {
      "cell_type": "code",
      "source": [
        "#####################################################\n",
        "# DIY : Search the best hyperparameter: n_neighbors\n",
        "#####################################################\n",
        "scores = []\n",
        "for kn in range(2,11):\n",
        "    knn = KNeighborsClassifier(n_neighbors=kn)\n",
        "    knn.fit(X_train, y_train)\n",
        "    y_pred = knn.predict(X_test)\n",
        "    score = metrics.accuracy_score(y_test, y_pred)\n",
        "    scores.append(score)\n",
        "\n",
        "scores\n",
        "\n",
        "# Plot scores w.r.t. n_neighbors\n",
        "plt.bar(range(2,11), scores)\n",
        "# plt.ylim((0.95,1))\n",
        "plt.show()\n",
        "\n",
        "plt.plot(range(2,11), scores,'ro-', ms=12)\n",
        "# plt.ylim((0.95,1))\n",
        "plt.show()"
      ],
      "metadata": {
        "id": "9JapvU52R4HN",
        "outputId": "9c6538e6-62c3-46bd-fb2e-2b8dd76d618c",
        "colab": {
          "base_uri": "https://localhost:8080/",
          "height": 513
        }
      },
      "execution_count": 30,
      "outputs": [
        {
          "output_type": "display_data",
          "data": {
            "text/plain": [
              "<Figure size 432x288 with 1 Axes>"
            ],
            "image/png": "[encoded data removed]"
          },
          "metadata": {
            "needs_background": "light"
          }
        },
        {
          "output_type": "display_data",
          "data": {
            "text/plain": [
              "<Figure size 432x288 with 1 Axes>"
            ],
            "image/png": "[encoded data removed]"
          },
          "metadata": {
            "needs_background": "light"
          }
        }
      ]
    }
  ]
}