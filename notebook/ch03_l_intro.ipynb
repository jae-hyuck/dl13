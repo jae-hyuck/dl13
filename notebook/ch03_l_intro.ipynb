{
  "nbformat": 4,
  "nbformat_minor": 0,
  "metadata": {
    "colab": {
      "provenance": [],
      "authorship_tag": "ABX9TyPPD36sWLnj+38MyPwRspXs",
      "include_colab_link": true
    },
    "kernelspec": {
      "name": "python3",
      "display_name": "Python 3"
    },
    "language_info": {
      "name": "python"
    }
  },
  "cells": [
    {
      "cell_type": "markdown",
      "metadata": {
        "id": "view-in-github",
        "colab_type": "text"
      },
      "source": [
        "<a href=\"https://colab.research.google.com/github/jae-hyuck/dl13/blob/main/notebook/ch03_l_intro.ipynb\" target=\"_parent\"><img src=\"https://colab.research.google.com/assets/colab-badge.svg\" alt=\"Open In Colab\"/></a>"
      ]
    },
    {
      "cell_type": "markdown",
      "source": [
        "## intro to ML \n",
        "### sklean\n",
        " - iris : knn\n",
        " - logis : knn\n",
        " - confusion matrix (혼동행렬)"
      ],
      "metadata": {
        "id": "6jqQjphAEeDf"
      }
    },
    {
      "cell_type": "markdown",
      "source": [
        "## iris dataset"
      ],
      "metadata": {
        "id": "2V2VLIAKFd3y"
      }
    },
    {
      "cell_type": "code",
      "source": [
        "# iris dataset\n",
        "from sklearn import datasets\n",
        "iris = datasets.load_iris()\n",
        "\n",
        "print(iris)"
      ],
      "metadata": {
        "id": "Bvwu_fGKFYKq"
      },
      "execution_count": null,
      "outputs": []
    },
    {
      "cell_type": "code",
      "source": [
        "iris.data.shape"
      ],
      "metadata": {
        "id": "JcDl1_o1GUiF"
      },
      "execution_count": null,
      "outputs": []
    },
    {
      "cell_type": "code",
      "source": [
        "iris.target.shape"
      ],
      "metadata": {
        "id": "W7SzHk2dGwmD"
      },
      "execution_count": null,
      "outputs": []
    },
    {
      "cell_type": "code",
      "source": [
        "print(iris.target_names)"
      ],
      "metadata": {
        "id": "TtOJvMG2GwNk"
      },
      "execution_count": null,
      "outputs": []
    },
    {
      "cell_type": "markdown",
      "source": [
        "### train-test split"
      ],
      "metadata": {
        "id": "BfkD4dLlHKO6"
      }
    },
    {
      "cell_type": "code",
      "source": [
        "from sklearn.model_selection import train_test_split\n",
        "\n",
        "X = iris.data\n",
        "y = iris.target\n",
        "\n",
        "# (80:20)으로 분할한다. \n",
        "X_train,X_test,y_train,y_test = train_test_split(X,y,test_size=0.2,random_state=4)\n",
        "\n",
        "print(X_train.shape)\n",
        "print(X_test.shape)"
      ],
      "metadata": {
        "colab": {
          "base_uri": "https://localhost:8080/"
        },
        "id": "Ia-XsCq4FrKZ",
        "outputId": "418db2c4-82d5-4fdc-e111-23f090205eca"
      },
      "execution_count": 8,
      "outputs": [
        {
          "output_type": "stream",
          "name": "stdout",
          "text": [
            "(120, 4)\n",
            "(30, 4)\n"
          ]
        }
      ]
    },
    {
      "cell_type": "code",
      "source": [
        "y_train.shape, y_test.shape # 튜플 구조로 나옴"
      ],
      "metadata": {
        "colab": {
          "base_uri": "https://localhost:8080/"
        },
        "id": "znqSdu0dINUE",
        "outputId": "d7c71f5d-712e-41a5-f483-49d4dc9f6b97"
      },
      "execution_count": 9,
      "outputs": [
        {
          "output_type": "execute_result",
          "data": {
            "text/plain": [
              "((120,), (30,))"
            ]
          },
          "metadata": {},
          "execution_count": 9
        }
      ]
    },
    {
      "cell_type": "markdown",
      "source": [
        "### Training (학습)"
      ],
      "metadata": {
        "id": "pSH8BfwnI6cO"
      }
    },
    {
      "cell_type": "code",
      "source": [
        "from sklearn.neighbors import KNeighborsClassifier\n",
        "\n",
        "knn = KNeighborsClassifier(n_neighbors=3)\n",
        "knn.fit(X_train, y_train)\n",
        "\n",
        "y_pred = knn.predict(X_test) # 예측값"
      ],
      "metadata": {
        "id": "ttJ8GtE8HIzy"
      },
      "execution_count": 11,
      "outputs": []
    },
    {
      "cell_type": "code",
      "source": [
        "y_pred , y_test"
      ],
      "metadata": {
        "colab": {
          "base_uri": "https://localhost:8080/"
        },
        "id": "CEXuOy-wJCeJ",
        "outputId": "9d108f47-e54c-4bec-af18-80b390bbdadd"
      },
      "execution_count": 13,
      "outputs": [
        {
          "output_type": "execute_result",
          "data": {
            "text/plain": [
              "(array([2, 0, 2, 2, 2, 1, 2, 0, 0, 2, 0, 0, 0, 1, 2, 0, 1, 0, 0, 2, 0, 2,\n",
              "        1, 0, 0, 0, 0, 0, 0, 2]),\n",
              " array([2, 0, 2, 2, 2, 1, 1, 0, 0, 2, 0, 0, 0, 1, 2, 0, 1, 0, 0, 2, 0, 2,\n",
              "        1, 0, 0, 0, 0, 0, 0, 2]))"
            ]
          },
          "metadata": {},
          "execution_count": 13
        }
      ]
    },
    {
      "cell_type": "markdown",
      "source": [
        "### 정확도 평가"
      ],
      "metadata": {
        "id": "m1Go1f2QJlr8"
      }
    },
    {
      "cell_type": "code",
      "source": [
        "from sklearn import metrics\n",
        "scores = metrics.accuracy_score(y_test, y_pred)\n",
        "print(scores)"
      ],
      "metadata": {
        "colab": {
          "base_uri": "https://localhost:8080/"
        },
        "id": "df9-y6CYI40v",
        "outputId": "79f201bc-e834-431c-add6-e6e985c71861"
      },
      "execution_count": 14,
      "outputs": [
        {
          "output_type": "stream",
          "name": "stdout",
          "text": [
            "0.9666666666666667\n"
          ]
        }
      ]
    },
    {
      "cell_type": "markdown",
      "source": [
        "### 새 데이터에 적용"
      ],
      "metadata": {
        "id": "9HLYAmbMJ39V"
      }
    },
    {
      "cell_type": "code",
      "source": [
        "#######################\n",
        "#  Test on new data\n",
        "#######################\n",
        "classes = {0:'setosa',1:'versicolor',2:'virginica'}\n",
        "\n",
        "# 전혀 보지 못한 새로운 데이터를 2개 제시해보자. \n",
        "x_new = [[3,4,5,2],\n",
        "         [5,4,2,2]]\n",
        "\n",
        "y_predict = knn.predict(x_new)\n",
        "\n",
        "print(classes[y_predict[0]])\n",
        "print(classes[y_predict[1]])"
      ],
      "metadata": {
        "colab": {
          "base_uri": "https://localhost:8080/"
        },
        "id": "amC8gD7fJjV3",
        "outputId": "c29c993d-5f40-4f94-b2b6-24ba046cccaa"
      },
      "execution_count": 15,
      "outputs": [
        {
          "output_type": "stream",
          "name": "stdout",
          "text": [
            "versicolor\n",
            "setosa\n"
          ]
        }
      ]
    },
    {
      "cell_type": "markdown",
      "source": [
        "### Decision boundary"
      ],
      "metadata": {
        "id": "wHdIjLyMKVFa"
      }
    },
    {
      "cell_type": "code",
      "source": [
        "############################################################\n",
        "# Decision boundary\n",
        "# from mlxtend.plotting import plot_decision_regions\n",
        "############################################################\n",
        "from mlxtend.plotting import plot_decision_regions\n",
        "import matplotlib.pyplot as plt\n",
        "# Plotting decision regions of two features\n",
        "ft_names = iris.feature_names\n",
        "two_feature_idx = [0,3]\n",
        "X2 = iris.data[:, two_feature_idx]\n",
        "y2 = iris.target\n",
        "X_train,X_test,y_train,y_test = train_test_split(X2,y2,test_size=0.2,random_state=4)\n",
        "\n",
        "knn2 = KNeighborsClassifier(n_neighbors=3)\n",
        "knn2.fit(X_train, y_train)\n",
        "\n",
        "plot_decision_regions(X2, y2, clf=knn2, legend=2)\n",
        "# Adding axes annotations\n",
        "plt.xlabel(ft_names[two_feature_idx[0]])\n",
        "plt.ylabel(ft_names[two_feature_idx[1]])\n",
        "plt.title('KNN3 on Iris')\n",
        "plt.show()"
      ],
      "metadata": {
        "id": "tBHN48mCJ10F"
      },
      "execution_count": null,
      "outputs": []
    },
    {
      "cell_type": "code",
      "source": [
        "########################################################\n",
        "# SVM\n",
        "########################################################\n",
        "# Training a classifier\n",
        "from sklearn.svm import SVC\n",
        "\n",
        "ft_names = iris.feature_names\n",
        "two_feature_idx = [0,2]\n",
        "X2 = iris.data[:, two_feature_idx]\n",
        "y2 = iris.target\n",
        "X_train,X_test,y_train,y_test = train_test_split(X2,y2,test_size=0.2,random_state=4)\n",
        "\n",
        "svm = SVC(C=0.5, kernel='linear')\n",
        "svm.fit(X_train, y_train)\n",
        "\n",
        "plot_decision_regions(X2, y2, clf=svm, legend=2)\n",
        "# Adding axes annotations\n",
        "plt.xlabel(ft_names[two_feature_idx[0]])\n",
        "plt.ylabel(ft_names[two_feature_idx[1]])\n",
        "plt.title('SVM on Iris')\n",
        "plt.show()\n",
        "########################################################\n"
      ],
      "metadata": {
        "id": "mgH30LWfKTX7"
      },
      "execution_count": null,
      "outputs": []
    },
    {
      "cell_type": "markdown",
      "source": [
        "---"
      ],
      "metadata": {
        "id": "QAcXTzh1Movi"
      }
    }
  ]
}