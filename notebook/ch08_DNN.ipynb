{
  "nbformat": 4,
  "nbformat_minor": 0,
  "metadata": {
    "colab": {
      "provenance": [],
      "authorship_tag": "ABX9TyPPgLUE11UykYHgYOYOCFl/",
      "include_colab_link": true
    },
    "kernelspec": {
      "name": "python3",
      "display_name": "Python 3"
    },
    "language_info": {
      "name": "python"
    }
  },
  "cells": [
    {
      "cell_type": "markdown",
      "metadata": {
        "id": "view-in-github",
        "colab_type": "text"
      },
      "source": [
        "<a href=\"https://colab.research.google.com/github/jae-hyuck/dl13/blob/main/notebook/ch08_DNN.ipynb\" target=\"_parent\"><img src=\"https://colab.research.google.com/assets/colab-badge.svg\" alt=\"Open In Colab\"/></a>"
      ]
    },
    {
      "cell_type": "markdown",
      "source": [
        "# ch08 : DNN 심층신경망 (deep nural network)"
      ],
      "metadata": {
        "id": "070TYtiHL8wU"
      }
    },
    {
      "cell_type": "code",
      "execution_count": null,
      "metadata": {
        "id": "KIudYA72L0Gf"
      },
      "outputs": [],
      "source": [
        " # 손실함수\n",
        "import numpy as np\n",
        "import matplotlib.pyplot as plt\n",
        "\n",
        "# MSE\n",
        "# mse(y,y_hat) = (y - y_hat)**2\n",
        "#\n",
        "x = np.linspace(0.0, 1.0, 101) \n",
        "y0 = np.square(x)\n",
        "y1 = np.square(1-x)\n",
        "plt.plot(x, y0, 'r') \n",
        "plt.plot(x, y1, 'g') \n",
        "plt.plot(x, y0+y1, 'b') \n",
        "plt.title('MSE')\n",
        "plt.legend(['y0','y1','y0+y1'])\n",
        "plt.show() "
      ]
    },
    {
      "cell_type": "code",
      "source": [
        "# BCE\n",
        "# bce(y,y_hat) = - y log(y_hat) - (1-y) log(1-y_hat)\n",
        "#\n",
        "x = np.linspace(0.0, 1.0, 101) \n",
        "y0 = -np.log(1-x)\n",
        "y1 = -np.log(x)\n",
        "plt.plot(x, y0, 'r') \n",
        "plt.plot(x, y1, 'g') \n",
        "plt.plot(x, y0+y1, 'b') \n",
        "plt.title('BCE')\n",
        "plt.legend(['y0','y1','y0+y1'])\n",
        "plt.show() "
      ],
      "metadata": {
        "id": "aZxPcfGOMSuX"
      },
      "execution_count": null,
      "outputs": []
    },
    {
      "cell_type": "markdown",
      "source": [
        "## 손실함수 \n",
        " - BCE\n",
        " - CCE (sCCE)\n",
        " - MSE"
      ],
      "metadata": {
        "id": "b9nvm05iNZCX"
      }
    },
    {
      "cell_type": "code",
      "source": [
        "# import numpy as np\n",
        "import tensorflow as tf\n",
        "\n",
        "# BinaryCrossentropy\n",
        "y_true = [  [1],   [0],   [0],   [1]]  \n",
        "y_pred = [[0.8], [0.3], [0.5], [0.9]]   \n",
        "# y_pred = [[1.0], [0.3], [0.5], [1.0]]   \n",
        "bce = tf.keras.losses.BinaryCrossentropy()\n",
        "print(bce(y_true, y_pred).numpy())\n",
        "      \n",
        "# CategoricalCrossentropy\n",
        "y_true = [[0.0, 1.0, 0.0], [0.0, 0.0, 1.0], [1.0, 0.0, 0.0]] # 고양이, 호랑이, 강아지\n",
        "y_pred = [[0.6, 0.3, 0.1], [0.3, 0.6, 0.1], [0.1, 0.7, 0.2]]\n",
        "cce = tf.keras.losses.CategoricalCrossentropy ()\n",
        "print(cce(y_true, y_pred).numpy ())      \n",
        "\n",
        "y_true = [ 12 , 20 , 29 , 60 ]\n",
        "y_pred = [ 14 , 18 , 27 , 55 ]\n",
        "mse = tf.keras.losses.MeanSquaredError ()\n",
        "print(mse(y_true, y_pred).numpy())\n",
        "\n",
        "#########################################\n",
        "def  custom_loss_function (y_true, y_pred) :\n",
        "   squared_difference = tf.square (y_true-y_pred)\n",
        "   return tf.reduce_mean (squared_difference, axis = -1 )\n",
        "\n",
        "import numpy as np\n",
        "custom_loss_function(np.array(y_true), np.array(y_pred)).numpy()\n"
      ],
      "metadata": {
        "colab": {
          "base_uri": "https://localhost:8080/"
        },
        "id": "4PWQE8vLNVLZ",
        "outputId": "917f9493-881e-4fb9-8ec9-b67dd1de8aac"
      },
      "execution_count": 4,
      "outputs": [
        {
          "output_type": "stream",
          "name": "stdout",
          "text": [
            "0.3445814\n",
            "1.936381\n",
            "9\n"
          ]
        },
        {
          "output_type": "execute_result",
          "data": {
            "text/plain": [
              "9"
            ]
          },
          "metadata": {},
          "execution_count": 4
        }
      ]
    }
  ]
}