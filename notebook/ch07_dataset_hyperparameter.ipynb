{
  "nbformat": 4,
  "nbformat_minor": 0,
  "metadata": {
    "colab": {
      "provenance": [],
      "authorship_tag": "ABX9TyONr6bOD4WgT613JlXTDOGK",
      "include_colab_link": true
    },
    "kernelspec": {
      "name": "python3",
      "display_name": "Python 3"
    },
    "language_info": {
      "name": "python"
    }
  },
  "cells": [
    {
      "cell_type": "markdown",
      "metadata": {
        "id": "view-in-github",
        "colab_type": "text"
      },
      "source": [
        "<a href=\"https://colab.research.google.com/github/jae-hyuck/dl13/blob/main/notebook/ch07_dataset_hyperparameter.ipynb\" target=\"_parent\"><img src=\"https://colab.research.google.com/assets/colab-badge.svg\" alt=\"Open In Colab\"/></a>"
      ]
    },
    {
      "cell_type": "markdown",
      "source": [
        "# Datasets\n",
        "\n",
        "# Hyperparameter selection"
      ],
      "metadata": {
        "id": "bQ4DtqxgGMYT"
      }
    },
    {
      "cell_type": "code",
      "execution_count": 3,
      "metadata": {
        "colab": {
          "base_uri": "https://localhost:8080/"
        },
        "id": "mr1qDGowGEHO",
        "outputId": "09266e39-a3ac-433d-a822-514fccd4c680"
      },
      "outputs": [
        {
          "output_type": "execute_result",
          "data": {
            "text/plain": [
              "((3, 2, 3), 3, dtype('int64'))"
            ]
          },
          "metadata": {},
          "execution_count": 3
        }
      ],
      "source": [
        " # datasets\n",
        "import numpy as np\n",
        "\n",
        "array = np.array([[[1, 2, 3], [4, 5, 6]], [[7, 8, 9], [10, 11, 12]],\n",
        "                  [[13, 14, 15], [16, 17, 18]]])\n",
        "array.shape, array.ndim, array.dtype"
      ]
    },
    {
      "cell_type": "code",
      "source": [
        "arr1 = np.empty((3, 4, 5, 6)) # zeros(), ones()\n",
        "arr1.shape"
      ],
      "metadata": {
        "colab": {
          "base_uri": "https://localhost:8080/"
        },
        "id": "uahuJigVGigz",
        "outputId": "6e807091-7808-4818-e0e9-0c78afcdbd40"
      },
      "execution_count": 4,
      "outputs": [
        {
          "output_type": "execute_result",
          "data": {
            "text/plain": [
              "(3, 4, 5, 6)"
            ]
          },
          "metadata": {},
          "execution_count": 4
        }
      ]
    },
    {
      "cell_type": "code",
      "source": [
        "# vector records\n",
        "arr2 = np.random.randn(500,8) # (데이터 개수,특징) 8개의 특징을 가진 500개의 데이터셋\n",
        "arr2.shape"
      ],
      "metadata": {
        "colab": {
          "base_uri": "https://localhost:8080/"
        },
        "id": "d8aTNde2G227",
        "outputId": "05e2539f-3f18-4862-e69f-896c3229fd2a"
      },
      "execution_count": 5,
      "outputs": [
        {
          "output_type": "execute_result",
          "data": {
            "text/plain": [
              "(500, 8)"
            ]
          },
          "metadata": {},
          "execution_count": 5
        }
      ]
    },
    {
      "cell_type": "code",
      "source": [
        "# color image\n",
        "arr3 = np.empty((60000,28,28,3)) # 3이면컬러 1이면 흑백\n",
        "arr3.shape"
      ],
      "metadata": {
        "colab": {
          "base_uri": "https://localhost:8080/"
        },
        "id": "Qu4UEUIAHCnj",
        "outputId": "72875744-8a33-490a-af61-768abc7eac2b"
      },
      "execution_count": 6,
      "outputs": [
        {
          "output_type": "execute_result",
          "data": {
            "text/plain": [
              "(60000, 28, 28, 3)"
            ]
          },
          "metadata": {},
          "execution_count": 6
        }
      ]
    },
    {
      "cell_type": "code",
      "source": [
        "# time series\n",
        "arr4 = np.random.randn(20,365,4) # \n",
        "arr4.shape\n"
      ],
      "metadata": {
        "id": "etco69c-HETC"
      },
      "execution_count": null,
      "outputs": []
    },
    {
      "cell_type": "markdown",
      "source": [
        "---\n",
        "---\n"
      ],
      "metadata": {
        "id": "Gfl2j6CrHaxC"
      }
    },
    {
      "cell_type": "markdown",
      "source": [
        "## Hyperprameter search\n",
        " - epoch\n",
        " - batch-size"
      ],
      "metadata": {
        "id": "FRA8wcMyO69-"
      }
    },
    {
      "cell_type": "code",
      "source": [
        "# !pip install scikeras"
      ],
      "metadata": {
        "colab": {
          "base_uri": "https://localhost:8080/"
        },
        "id": "zm1E0uTtPL7W",
        "outputId": "4258bcdc-6566-4e19-99f8-4588970d22ec"
      },
      "execution_count": 12,
      "outputs": [
        {
          "output_type": "stream",
          "name": "stdout",
          "text": [
            "Looking in indexes: https://pypi.org/simple, https://us-python.pkg.dev/colab-wheels/public/simple/\n",
            "Collecting scikeras\n",
            "  Downloading scikeras-0.10.0-py3-none-any.whl (27 kB)\n",
            "Requirement already satisfied: scikit-learn>=1.0.0 in /usr/local/lib/python3.10/dist-packages (from scikeras) (1.2.2)\n",
            "Requirement already satisfied: packaging>=0.21 in /usr/local/lib/python3.10/dist-packages (from scikeras) (23.1)\n",
            "Requirement already satisfied: threadpoolctl>=2.0.0 in /usr/local/lib/python3.10/dist-packages (from scikit-learn>=1.0.0->scikeras) (3.1.0)\n",
            "Requirement already satisfied: scipy>=1.3.2 in /usr/local/lib/python3.10/dist-packages (from scikit-learn>=1.0.0->scikeras) (1.10.1)\n",
            "Requirement already satisfied: joblib>=1.1.1 in /usr/local/lib/python3.10/dist-packages (from scikit-learn>=1.0.0->scikeras) (1.2.0)\n",
            "Requirement already satisfied: numpy>=1.17.3 in /usr/local/lib/python3.10/dist-packages (from scikit-learn>=1.0.0->scikeras) (1.22.4)\n",
            "Installing collected packages: scikeras\n",
            "Successfully installed scikeras-0.10.0\n"
          ]
        }
      ]
    },
    {
      "cell_type": "code",
      "source": [
        "# import numpy as np \n",
        "# import matplotlib.pyplot as plt \n",
        "import tensorflow as tf\n",
        "from sklearn.model_selection import GridSearchCV\n",
        "# from tensorflow.keras.wrappers.scikit_learn import KerasClassifier\n",
        "from scikeras.wrappers import KerasClassifier\n",
        "# OS warning cure\n",
        "import os\n",
        "os.environ['TF_CPP_MIN_LOG_LEVEL'] = '3' # warnnig 표시가 안 뜨도록 함\n",
        "\n",
        "# 데이터 세트 준비\n",
        "(train_images, train_labels), (test_images, test_labels) = tf.keras.datasets.mnist.load_data()\n",
        "\n",
        "train_images = train_images.reshape((60000, 28 * 28))\n",
        "train_images = train_images.astype('float32') / 255\n",
        "\n",
        "test_images = test_images.reshape((10000, 28 * 28))\n",
        "test_images = test_images.astype('float32') / 255\n",
        "\n",
        "train_labels = tf.keras.utils.to_categorical(train_labels)\n",
        "test_labels = tf.keras.utils.to_categorical(test_labels)\n",
        "                             \n",
        "# 신경망 모델 구축\n",
        "def build_model():\n",
        "    network = tf.keras.models.Sequential()\n",
        "    network.add(tf.keras.layers.Dense(512, activation='relu', input_shape=(28 * 28,)))\n",
        "    network.add(tf.keras.layers.Dense(10, activation='sigmoid'))\n",
        "\n",
        "    network.compile(optimizer='rmsprop',\n",
        "                loss='categorical_crossentropy',\n",
        "                metrics=['accuracy'])\n",
        "    return network\n",
        "\n",
        "# 하이퍼 매개변수 딕셔너리\n",
        "param_grid = {\n",
        "              'epochs':[1, 2, 3],\t# 에포크 수: 1, 2, 3\n",
        "              'batch_size':[32, 64, 100]\t# 배치 크기: 32, 64, 100\n",
        "             }\n",
        "\n",
        "# 케라스 모델을 scikeras에서 사용하도록 포장한다. \n",
        "model = KerasClassifier(model = build_model, verbose=1)\n",
        "\n",
        "## Elapsed time start\n",
        "import time\n",
        "start = time.time()\n",
        "\n",
        "# 그리드 검색\n",
        "gs = GridSearchCV(\n",
        "    estimator=model,\n",
        "    param_grid=param_grid, \n",
        "    cv=3, \n",
        "    # n_jobs=-1 # comment this line to avoid out-of-memory\n",
        ")\n",
        "\n",
        "# 그리드 검색 결과 출력\n",
        "grid_result = gs.fit(train_images, train_labels)\n",
        "\n",
        "## Elapsed time end\n",
        "end = time.time()\n",
        "print('Elapsed time:', end - start) # Elapsed time: 122.5, 189.5\n",
        "\n",
        "print(grid_result.best_score_) # 0.9725, 0.9711\n",
        "print(grid_result.best_params_) # {'batch_size': 64, 'epochs': 3}\n"
      ],
      "metadata": {
        "colab": {
          "base_uri": "https://localhost:8080/"
        },
        "id": "nK0gcx8vJWnR",
        "outputId": "8814b92f-cb01-4658-c31d-08029269f785"
      },
      "execution_count": 13,
      "outputs": [
        {
          "output_type": "stream",
          "name": "stdout",
          "text": [
            "1250/1250 [==============================] - 10s 7ms/step - loss: 0.2406 - accuracy: 0.9285\n",
            "625/625 [==============================] - 2s 2ms/step\n",
            "1250/1250 [==============================] - 10s 8ms/step - loss: 0.2411 - accuracy: 0.9283\n",
            "625/625 [==============================] - 2s 3ms/step\n",
            "1250/1250 [==============================] - 9s 7ms/step - loss: 0.2394 - accuracy: 0.9293\n",
            "625/625 [==============================] - 2s 2ms/step\n",
            "Epoch 1/2\n",
            "1250/1250 [==============================] - 9s 7ms/step - loss: 0.2402 - accuracy: 0.9280\n",
            "Epoch 2/2\n",
            "1250/1250 [==============================] - 8s 7ms/step - loss: 0.1042 - accuracy: 0.9685\n",
            "625/625 [==============================] - 2s 3ms/step\n",
            "Epoch 1/2\n",
            "1250/1250 [==============================] - 8s 6ms/step - loss: 0.2368 - accuracy: 0.9305\n",
            "Epoch 2/2\n",
            "1250/1250 [==============================] - 9s 7ms/step - loss: 0.1002 - accuracy: 0.9694\n",
            "625/625 [==============================] - 2s 2ms/step\n",
            "Epoch 1/2\n",
            "1250/1250 [==============================] - 9s 7ms/step - loss: 0.2415 - accuracy: 0.9283\n",
            "Epoch 2/2\n",
            "1250/1250 [==============================] - 10s 8ms/step - loss: 0.0998 - accuracy: 0.9705\n",
            "625/625 [==============================] - 1s 2ms/step\n",
            "Epoch 1/3\n",
            "1250/1250 [==============================] - 9s 7ms/step - loss: 0.2408 - accuracy: 0.9293\n",
            "Epoch 2/3\n",
            "1250/1250 [==============================] - 8s 6ms/step - loss: 0.1022 - accuracy: 0.9704\n",
            "Epoch 3/3\n",
            "1250/1250 [==============================] - 9s 7ms/step - loss: 0.0686 - accuracy: 0.9783\n",
            "625/625 [==============================] - 2s 2ms/step\n",
            "Epoch 1/3\n",
            "1250/1250 [==============================] - 9s 7ms/step - loss: 0.2350 - accuracy: 0.9307\n",
            "Epoch 2/3\n",
            "1250/1250 [==============================] - 9s 7ms/step - loss: 0.0981 - accuracy: 0.9706\n",
            "Epoch 3/3\n",
            "1250/1250 [==============================] - 8s 6ms/step - loss: 0.0671 - accuracy: 0.9793\n",
            "625/625 [==============================] - 2s 2ms/step\n",
            "Epoch 1/3\n",
            "1250/1250 [==============================] - 9s 7ms/step - loss: 0.2380 - accuracy: 0.9297\n",
            "Epoch 2/3\n",
            "1250/1250 [==============================] - 9s 7ms/step - loss: 0.0996 - accuracy: 0.9708\n",
            "Epoch 3/3\n",
            "1250/1250 [==============================] - 9s 7ms/step - loss: 0.0660 - accuracy: 0.9813\n",
            "625/625 [==============================] - 3s 4ms/step\n",
            "625/625 [==============================] - 7s 9ms/step - loss: 0.2717 - accuracy: 0.9200\n",
            "313/313 [==============================] - 2s 5ms/step\n",
            "625/625 [==============================] - 5s 7ms/step - loss: 0.2628 - accuracy: 0.9237\n",
            "313/313 [==============================] - 1s 3ms/step\n",
            "625/625 [==============================] - 6s 9ms/step - loss: 0.2686 - accuracy: 0.9216\n",
            "313/313 [==============================] - 1s 3ms/step\n",
            "Epoch 1/2\n",
            "625/625 [==============================] - 5s 7ms/step - loss: 0.2744 - accuracy: 0.9201\n",
            "Epoch 2/2\n",
            "625/625 [==============================] - 6s 9ms/step - loss: 0.1149 - accuracy: 0.9661\n",
            "313/313 [==============================] - 2s 5ms/step\n",
            "Epoch 1/2\n",
            "625/625 [==============================] - 5s 7ms/step - loss: 0.2658 - accuracy: 0.9230\n",
            "Epoch 2/2\n",
            "625/625 [==============================] - 5s 8ms/step - loss: 0.1086 - accuracy: 0.9676\n",
            "313/313 [==============================] - 2s 5ms/step\n",
            "Epoch 1/2\n",
            "625/625 [==============================] - 5s 7ms/step - loss: 0.2699 - accuracy: 0.9217\n",
            "Epoch 2/2\n",
            "625/625 [==============================] - 5s 7ms/step - loss: 0.1107 - accuracy: 0.9659\n",
            "313/313 [==============================] - 1s 4ms/step\n",
            "Epoch 1/3\n",
            "625/625 [==============================] - 5s 7ms/step - loss: 0.2702 - accuracy: 0.9216\n",
            "Epoch 2/3\n",
            "625/625 [==============================] - 5s 7ms/step - loss: 0.1124 - accuracy: 0.9666\n",
            "Epoch 3/3\n",
            "625/625 [==============================] - 6s 9ms/step - loss: 0.0724 - accuracy: 0.9781\n",
            "313/313 [==============================] - 1s 3ms/step\n",
            "Epoch 1/3\n",
            "625/625 [==============================] - 5s 7ms/step - loss: 0.2656 - accuracy: 0.9226\n",
            "Epoch 2/3\n",
            "625/625 [==============================] - 6s 9ms/step - loss: 0.1095 - accuracy: 0.9672\n",
            "Epoch 3/3\n",
            "625/625 [==============================] - 5s 8ms/step - loss: 0.0724 - accuracy: 0.9781\n",
            "313/313 [==============================] - 1s 3ms/step\n",
            "Epoch 1/3\n",
            "625/625 [==============================] - 5s 7ms/step - loss: 0.2711 - accuracy: 0.9202\n",
            "Epoch 2/3\n",
            "625/625 [==============================] - 6s 9ms/step - loss: 0.1113 - accuracy: 0.9674\n",
            "Epoch 3/3\n",
            "625/625 [==============================] - 5s 8ms/step - loss: 0.0709 - accuracy: 0.9787\n",
            "313/313 [==============================] - 1s 3ms/step\n",
            "400/400 [==============================] - 4s 9ms/step - loss: 0.2930 - accuracy: 0.9148\n",
            "200/200 [==============================] - 1s 4ms/step\n",
            "400/400 [==============================] - 4s 9ms/step - loss: 0.2916 - accuracy: 0.9172\n",
            "200/200 [==============================] - 1s 4ms/step\n",
            "400/400 [==============================] - 5s 12ms/step - loss: 0.3005 - accuracy: 0.9130\n",
            "200/200 [==============================] - 1s 4ms/step\n",
            "Epoch 1/2\n",
            "400/400 [==============================] - 4s 9ms/step - loss: 0.2958 - accuracy: 0.9151\n",
            "Epoch 2/2\n",
            "400/400 [==============================] - 3s 9ms/step - loss: 0.1247 - accuracy: 0.9631\n",
            "200/200 [==============================] - 1s 6ms/step\n",
            "Epoch 1/2\n",
            "400/400 [==============================] - 4s 10ms/step - loss: 0.2944 - accuracy: 0.9158\n",
            "Epoch 2/2\n",
            "400/400 [==============================] - 4s 9ms/step - loss: 0.1256 - accuracy: 0.9627\n",
            "200/200 [==============================] - 1s 4ms/step\n",
            "Epoch 1/2\n",
            "400/400 [==============================] - 5s 11ms/step - loss: 0.2979 - accuracy: 0.9145\n",
            "Epoch 2/2\n",
            "400/400 [==============================] - 4s 9ms/step - loss: 0.1243 - accuracy: 0.9644\n",
            "200/200 [==============================] - 1s 4ms/step\n",
            "Epoch 1/3\n",
            "400/400 [==============================] - 5s 10ms/step - loss: 0.3020 - accuracy: 0.9124\n",
            "Epoch 2/3\n",
            "400/400 [==============================] - 4s 10ms/step - loss: 0.1267 - accuracy: 0.9632\n",
            "Epoch 3/3\n",
            "400/400 [==============================] - 4s 9ms/step - loss: 0.0836 - accuracy: 0.9750\n",
            "200/200 [==============================] - 1s 3ms/step\n",
            "Epoch 1/3\n",
            "400/400 [==============================] - 6s 11ms/step - loss: 0.2921 - accuracy: 0.9160\n",
            "Epoch 2/3\n",
            "400/400 [==============================] - 5s 12ms/step - loss: 0.1252 - accuracy: 0.9641\n",
            "Epoch 3/3\n",
            "400/400 [==============================] - 4s 11ms/step - loss: 0.0809 - accuracy: 0.9761\n",
            "200/200 [==============================] - 1s 6ms/step\n",
            "Epoch 1/3\n",
            "400/400 [==============================] - 4s 9ms/step - loss: 0.2956 - accuracy: 0.9151\n",
            "Epoch 2/3\n",
            "400/400 [==============================] - 3s 9ms/step - loss: 0.1238 - accuracy: 0.9639\n",
            "Epoch 3/3\n",
            "400/400 [==============================] - 4s 10ms/step - loss: 0.0805 - accuracy: 0.9766\n",
            "200/200 [==============================] - 1s 5ms/step\n",
            "Epoch 1/3\n",
            "1875/1875 [==============================] - 13s 7ms/step - loss: 0.2020 - accuracy: 0.9393\n",
            "Epoch 2/3\n",
            "1875/1875 [==============================] - 13s 7ms/step - loss: 0.0873 - accuracy: 0.9740\n",
            "Epoch 3/3\n",
            "1875/1875 [==============================] - 13s 7ms/step - loss: 0.0608 - accuracy: 0.9820\n",
            "Elapsed time: 496.10198879241943\n",
            "0.9720833333333333\n",
            "{'batch_size': 32, 'epochs': 3}\n"
          ]
        }
      ]
    }
  ]
}